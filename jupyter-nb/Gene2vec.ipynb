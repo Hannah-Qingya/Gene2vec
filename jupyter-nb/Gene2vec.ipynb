{
 "cells": [
  {
   "cell_type": "markdown",
   "metadata": {},
   "source": [
    "# Gene2vec: Neural word embeddings of amino acid sequences\n",
    "---"
   ]
  },
  {
   "cell_type": "markdown",
   "metadata": {},
   "source": [
    "## Overview\n",
    "\n",
    "Gene2vec is an adaptation of the Word2vec model that aims to construct quasi-syntactic and semantic relationships  from amino acid sequence data. \n",
    "\n",
    "Word2vec is an extension upon the continuous Skip-gram model that allows for precise representation of semantic and syntactic word relationships. Additionally, Word2vec representations exhibit additive composability such that vector arithmetic can be performed on words. Mikolov et al. illustrate this behavior by noting that the resulting vector space representation of ```(\"Madrid\" - \"Spain\" + \"France\")``` is closer to that of ```\"Paris\"``` than any other word.\n",
    "\n",
    "We demonstrate the successful construction of such relationships from amino acid sequences by using them to perform some rudimentary protein classification.\n"
   ]
  },
  {
   "cell_type": "markdown",
   "metadata": {},
   "source": [
    "---\n",
    "## The Skip-gram Model"
   ]
  },
  {
   "cell_type": "markdown",
   "metadata": {},
   "source": [
    "The Skip-gram model produces vector representations of words that can be used to predict words that are likely to be found in the same context. Formally, for a sequence of training words $w_1, w_2, ..., w_T$ and a context window of size $c$, the objective function is \n",
    "\n",
    "$$\\frac{1}{T} \\sum_{t=1}^T \\sum_{-c\\leq j\\leq c,\\; j \\neq 0} \\log p(w_{t+j}\\mid w_t).$$\n",
    "\n",
    "Mikolov et al. define $p(w_{t+j} \\mid w_t)$ using the softmax function: \n",
    "\n",
    "$$p(w_O | w_I)=\\frac{\\exp{\\left(v'_{w_O}{} ^\\top v_{w_I}\\right)}}{\\sum_{w=1}^W \\exp{\\left( v'_{w} {} ^\\top v_{w_t}\\right)}}$$\n",
    "\n",
    "where $v_w$ and $v'_w$ are the \"input\" and \"output\" vector representations of $w$, and $W$ is the number of words in the vocabulary."
   ]
  },
  {
   "cell_type": "markdown",
   "metadata": {},
   "source": [
    "<figure><img src='./res/skipgram.png' alt='Skip-gram Model' width=\"350\"/> <figcaption><center><i>The Skip-gram model.</i></center></figcaption> </figure>\n",
    "\n",
    "As shown in the figure, the output layer consists of $C$ multinomial distributions. Each output is computed as: \n",
    "\n",
    "<br>\n",
    "\n",
    "$$p \\left( w_{c,j} = w_{O,c} \\mid w_I \\right) = y_{c,j} = \\frac{\\exp{\\left( u_{c,j} \\right) }}{\\sum_{j=1}^V \\exp{\\left( u_{j'} \\right) }}$$\n",
    "\n",
    "where \n",
    "\n",
    "* $w_{c,j}$ is the $j$th word on the $c$th panel of the output layer\n",
    "* $w_{O,c}$ is the $c$th word in the output context words\n",
    "* $w_I$ is the input word\n",
    "* $y_{c,j}$ is the output of the $j$th node on the $c$th panel of the output layer\n",
    "* $u_{c,j}$ is the net input of the $j$th node on the $c$th panel of the output layer\n",
    "\n",
    "Rong notes that because output panels share the same weights, $u_{c,j}=u_j=\\mathbf{v'}_{w_j}^\\top \\cdot \\mathbf{h}$ for $c=1,2,...,C$, hidden layer weights $\\mathbf{h}$, and the output vector of the $j$th word in the vocabulary $\\mathbf{v'}_{w_j}$. "
   ]
  },
  {
   "cell_type": "markdown",
   "metadata": {},
   "source": [
    "### Hierarchical Softmax \n",
    "Mikolov notes that it is impractical to use the softmax function here, as the cost of computing $\\nabla \\log p(w_O \\mid w_I)$ is proportional to $W$, which is often large. To remedy this, the hierarchical softmax function is used. Introduced by [Morin et al.](http://www.iro.umontreal.ca/~lisa/pointeurs/hierarchical-nnlm-aistats05.pdf) in 2005, the hierarchical softmax funciton reduces the required computation by only evaluating approximately $\\log_2(W)$ nodes. \n",
    "\n",
    "A binary tree is used to represent the output layer with $W$ words as leaves and each node representing the relative probability of its child nodes. A random walk can then be used to assign probabilities to words, as each word $w$ can be reached by some path from the root to $w$. From this we can define $p\\left(w \\mid w_I\\right)$ using the hierarchical softmax as:\n",
    "\n",
    "$$p\\left(w \\mid w_I\\right) = \\prod_{j=1}^{L(w)-1} \\sigma \\left( [[ n(w,j+1) = \\text{ch}(n(w,j)) ]] \\cdot v'_{n(w,j)} {}^\\top v_{w_I} \\right)$$\n",
    "\n",
    "where \n",
    "\n",
    "* $n(w,j)$ the $j$th node on the path from the root to $w$\n",
    "* $L(w)$ the length of the path\n",
    "* ch$(n)$ an arbitrary fixed child of $n$\n",
    "* $\\sigma(x) = \\left( 1 + \\exp{(-x)} \\right)^{-1}$\n",
    "* $[[\\cdot]] = \\begin{cases} 1 &\\text{if } x \\text{ is true} \\\\ -1 &\\text{otherwise} \\end{cases}$\n",
    "\n",
    "We can verify that the hierarchical softmax function is a valid probability density function by observing that \n",
    "\n",
    "$$\\sum_{w=1}^W \\prod_{j=1}^{L(w)-1} \\sigma \\left( [[ n(w,j+1) = \\text{ch}(n(w,j)) ]] \\cdot v'_{n(w,j)} {}^\\top v_{w_I} \\right) = \\sum_{w=1}^W p(w \\mid w_I) = 1.$$"
   ]
  },
  {
   "cell_type": "markdown",
   "metadata": {},
   "source": [
    "### Negative Sampling\n",
    "Skip-gram's performance was further improved with the advent of Word2vec replacing the hierarchical softmax function with a simplified variant of Noise Contrastive Estimation (NCE). \n",
    "\n",
    "Noise Contrasitive Estimation is an estimation principle for unnormalized statistical models stating that good models should be able to differentiate data from noise using a logistic regression. Skip-gram uses a simplified version of NCE to redefine the objective function as:\n",
    "\n",
    "\n",
    "$$ p\\left(w_O \\mid w_I\\right) = \\log \\sigma \\left( v'_{w_O}{} ^\\top v_{w_I} \\right) + \\sum_{i=1}^k \\mathbb{E}_{w_i \\sim P_n(w)}\\left[ \\log \\sigma \\left( -v'_{w_i}{} ^\\top v_{w_I} \\right) \\right] $$\n"
   ]
  },
  {
   "cell_type": "markdown",
   "metadata": {},
   "source": [
    "[Google](https://www.tensorflow.org/versions/r0.8/tutorials/word2vec/index.html) illustrates this simple substitution in the Continous Bag of Words (CBOW) model as shown below. Note the Skip-gram model is a reversed CBOW. \n",
    "\n",
    "<figure><img src='./res/nplm.png' alt='Hierarchical softmax to Noise Contrasitive Estimation transition' width=\"800\"/> <figcaption><center><i>Hierarchical softmax to Noise Contrasitive Estimation transition.</i></center></figcaption> </figure>"
   ]
  },
  {
   "cell_type": "markdown",
   "metadata": {},
   "source": [
    "\n",
    "### Loss Function\n",
    "The Skip-gram loss function $E$ is defined as: \n",
    "\n",
    "$$ \\begin{align} E &= -\\log p(w_{O,1}, w_{O,2},..., w_{O,C}\\mid w_I) \\\\  &= -\\log \\prod_{c=1}^C \\frac{\\exp{\\left(u_{c,j^*_c}\\right)}}{\\sum_{j'=1}^V \\exp(u_{j'})} \\\\ &= -\\sum_{c=1}^C u_{j^*_c} + C \\cdot \\log \\sum_{j'=1}^V \\exp \\left( u_{j'} \\right) \\end{align}$$\n",
    "\n",
    "where $j_c^*$ is the index of the $c$th output context word in the vocabulary. \n",
    "\n",
    "We can use this to calculate the prediction error for a node, $e_{c,j}$:\n",
    "\n",
    "$$e_{c,j} = \\frac{\\partial E}{\\partial u_{c,j}}= y_{c,j} - t_{c,j}$$\n",
    "\n",
    "where $t_j = \\begin{cases} 1 &\\text{if the } j \\text{th node is the actual output word} \\\\ 0 &\\text{otherwise} \\end{cases}$.\n",
    "\n",
    "Rewriting the loss function to use NCE, we get:\n",
    "\n",
    "$$E = -\\log \\sigma \\left( \\mathbf{v'}_{w_O} {}^\\top  \\mathbf{h} \\right) - \\sum _{w_i \\in \\mathcal{W}_{neg}} \\log \\sigma \\left( \\mathbf{v'}_{w_i} {}^\\top  \\mathbf{h} \\right).$$"
   ]
  },
  {
   "cell_type": "markdown",
   "metadata": {},
   "source": [
    "### Update Equations\n",
    "The hidden layer is  $\\mathbf{h} = {}^\\top v_{w_I} = \\frac{1}{C}W\\cdot (v_{w_1} + v_{w_2} + ... + v_{w_c})$\n",
    "\n",
    "We take the derivative of the loss function with regard to the net input of output unit $w_j$ to obtain our update equations\n",
    "\n",
    "<br>\n",
    "\n",
    "$$ \\begin{align} \\frac{\\partial E}{\\partial v'_{w_j}{}^\\top v_{w_I}} &= \\begin{cases} \\sigma \\left( v'_{w_j}{}^\\top v_{w_I} \\right) - 1 & \\text{ if } w_j = w_O \\\\ \\sigma \\left( v'_{w_j}{}^\\top v_{w_I} \\right) & \\text{ if } w_j \\in \\mathcal{W}_{\\text{neg}} \\end{cases}\\\\ &= \\sigma \\left( v'_{w_j}{}^\\top v_{w_I} \\right) - t_j \\mid t_j \\text{ the label for word } w_j \\end{align} $$"
   ]
  },
  {
   "cell_type": "markdown",
   "metadata": {},
   "source": [
    "### Learning Phrases\n",
    "Skip-gram phrases are formed based on simple unigram and bigram counts. The phrase score function is defined as:\n",
    "\n",
    "$$ \\text{score}(w_i,w_j)=\\frac{\\text{count}(w_iw_j)-\\delta}{\\text{count}(w_i) \\times \\text{count}(w_j)} $$\n",
    "\n",
    "where $\\delta$ is used to prevent the formation of many phrases of infrequent words. "
   ]
  },
  {
   "cell_type": "markdown",
   "metadata": {},
   "source": [
    "## Word2Vec Examples"
   ]
  },
  {
   "cell_type": "markdown",
   "metadata": {},
   "source": [
    "```\n",
    "new york\n",
    "              Word       Cosine distance\n",
    "-----------------------------------------\n",
    "       schenectady\t\t0.587212\n",
    "          brooklyn\t\t0.553177\n",
    "            newark\t\t0.552684\n",
    "            albany\t\t0.538990\n",
    "                ny\t\t0.517134\n",
    "                \n",
    "darth vader\n",
    "              Word       Cosine distance\n",
    "-----------------------------------------\n",
    "         palpatine\t\t0.773569\n",
    "           sidious\t\t0.735910\n",
    "            anakin\t\t0.731247\n",
    "         skywalker\t\t0.699718\n",
    "              sith\t\t0.661552\n",
    "```"
   ]
  },
  {
   "cell_type": "markdown",
   "metadata": {},
   "source": [
    "### Visualization using principal component analysis\n",
    "We can plot our relationships using the [$\\texttt{visword2vec}$](https://gist.github.com/chezou/3899461aa550f73854a1) module. Visword2vec uses principal component analysis to perform dimensionality reduction on our high-dimensional word vectors. As a reminder, [PCA](https://en.wikipedia.org/wiki/Principal_component_analysis) is an orthogonal linear transformation of data to a new coordinate system such that the components are defined as\n",
    "$$\\begin{align}\\mathbf{w}_{(1)} &= \\underset{\\Vert \\mathbf{w} \\Vert = 1}{\\operatorname{\\arg\\,max}}\\,\\left\\{ \\sum_i \\left(t_1\\right)^2_{(i)} \\right\\} = \\underset{\\Vert \\mathbf{w} \\Vert = 1}{\\operatorname{\\arg\\,max}}\\,\\left\\{ \\sum_i \\left(\\mathbf{x}_{(i)} \\cdot \\mathbf{w} \\right)^2 \\right\\}\\\\ &= \\underset{\\Vert \\mathbf{w} \\Vert = 1}{\\operatorname{\\arg\\,max}}\\, \\{ \\Vert \\mathbf{Xw} \\Vert^2 \\} = \\underset{\\Vert \\mathbf{w} \\Vert = 1}{\\operatorname{\\arg\\,max}}\\, \\left\\{ \\mathbf{w}^T \\mathbf{X}^T \\mathbf{X w} \\right\\} \\\\ &= {\\operatorname{\\arg\\,max}}\\, \\left\\{ \\frac{\\mathbf{w}^T\\mathbf{X}^T \\mathbf{X w}}{\\mathbf{w}^T \\mathbf{w}} \\right\\} \\end{align} $$\n",
    "\n",
    "for the first vector, $\\mathbf{w}_{(1)}$ in a matrix $\\mathbf{X}$. Further components are defined by\n",
    "\n",
    "$$\\mathbf{w}_{(k)} = \\underset{\\Vert \\mathbf{w} \\Vert = 1}{\\operatorname{arg\\,max}} \\left\\{ \\Vert \\mathbf{\\hat{X}}_{k} \\mathbf{w} \\Vert^2 \\right\\} = {\\operatorname{\\arg\\,max}}\\, \\left\\{ \\tfrac{\\mathbf{w}^T\\mathbf{\\hat{X}}_{k}^T \\mathbf{\\hat{X}}_{k} \\mathbf{w}}{\\mathbf{w}^T \\mathbf{w}} \\right\\}$$\n",
    "\n",
    "after subtracting the first $k-1$ components from $\\mathbf{X}$:\n",
    "\n",
    "$$\\mathbf{\\hat{X}}_{k} = \\mathbf{X} - \\sum_{s = 1}^{k - 1} \\mathbf{X} \\mathbf{w}_{(s)} \\mathbf{w}_{(s)}^{\\rm T}.$$\n",
    "\n",
    "<br>\n",
    "\n",
    "Notice that in the Star Wars example below, the terms \"sith\", \"sidious\", and \"maul\" ([Darth Maul](http://starwars.wikia.com/wiki/Darth_Maul)) are in relatively close proximity to each other. We also see that \"yoda\" and \"kenobi\" are fairly close. Word2vec accurately learned these relationships from plain text data alone. "
   ]
  },
  {
   "cell_type": "code",
   "execution_count": 5,
   "metadata": {
    "collapsed": false,
    "scrolled": false
   },
   "outputs": [
    {
     "name": "stdout",
     "output_type": "stream",
     "text": [
      "loading\n",
      "loaded\n",
      "[ 0.19379273  0.14548096]\n"
     ]
    },
    {
     "data": {
      "image/png": "[encoded data removed]",
      "text/plain": [
       "<matplotlib.figure.Figure at 0x7f0fa710e350>"
      ]
     },
     "metadata": {},
     "output_type": "display_data"
    },
    {
     "name": "stdout",
     "output_type": "stream",
     "text": [
      "[ 0.13762598  0.11963841]\n"
     ]
    },
    {
     "data": {
      "image/png": "[encoded data removed]",
      "text/plain": [
       "<matplotlib.figure.Figure at 0x7f0e35326090>"
      ]
     },
     "metadata": {},
     "output_type": "display_data"
    }
   ],
   "source": [
    "%matplotlib inline\n",
    "import visword2vec\n",
    "v = visword2vec.visWord2Vec('./res/text8.bin')\n",
    "v.plot('darth vader')\n",
    "v.plot('new york')"
   ]
  },
  {
   "cell_type": "markdown",
   "metadata": {},
   "source": [
    "---\n",
    "## Gene2Vec Overview"
   ]
  },
  {
   "cell_type": "markdown",
   "metadata": {},
   "source": [
    "### Use of nucleotide sequences\n",
    "\n",
    "The objective of our project was to see if Word2vec could be used with nucleotide sequences to identify previously unknown relationships among genes. This initial effort did not produce meaningful results, as a significant portion of DNA is [noncoding](https://en.wikipedia.org/wiki/Noncoding_DNA) (does not code for proteins). The Enlgish language analogue to this would be training Word2vec on data consiting of 2% Englsih text and 98% random characters. \n",
    "\n",
    "<br>\n",
    "\n",
    "\n",
    "<figure><img src='./res/DNA_exons_introns.png' alt='Exons vs Introns' width=\"750\"/> <figcaption><center><i>Exons vs Introns.</i></center></figcaption> </figure>\n",
    "\n",
    "\n",
    "During this analysis we also encountered the issue of separating nucleotide sequences into \"words\". We found that for nucleotide data, 27-grams produced somewhat meaningful clusters. The following snippet contains sequences from two clusters. Note that the [*Triticum aestivum*](https://en.wikipedia.org/wiki/Common_wheat) and [*Ovis canadensis*](https://en.wikipedia.org/wiki/Bighorn_sheep) samples have better alignment than those from the *Triticum aestivum cluster*. Simple string similarity would have failed to separate the two species. \n",
    "\n",
    "\n",
    "```\n",
    "        AAAAATAGTATAAAAAGTTGCCAAAAG ->  Triticum aestivum chromosome 3B (cluster 1)\n",
    "(11/27) ||||| |    | |||   |         \n",
    "        AAAAACATGCAACAAACAGGAACTGGC ->  Triticum aestivum chromosome 3B (cluster 1)\n",
    "(10/27) |||||||          |  |     |  \n",
    "        AAAAACAGAATCTGTCTAAAACAGAAC ->  Triticum aestivum chromosome 3B (cluster 1)\n",
    "(14/27) |||||||||  |  |  |   |  |    \n",
    "        AAAAACAGAGACATTACTTTGCCAACA ->  Ovis canadensis canadensis isolate 43U chromosome 26 (cluster 2)\n",
    "```\n",
    "\n",
    "We concluded that this finding was not significant enough to warrant continued use of nucleotide sequences given the time remaining for the project."
   ]
  },
  {
   "cell_type": "markdown",
   "metadata": {},
   "source": [
    "### Use of amino acid sequences\n",
    "\n",
    "Training models on amino acid (protein) sequences eliminated the issue of noncoding sequences and also allowed for smaller word sizes to be used. There are 4,096 $(4^6)$ possible 6-gram nucleotide sequences, compared to 244,140,625 $(25^6)$ 6-gram amino acid sequences. Having a significantly larger vocabulary for any given word size is highly desirable because it allows for the construction of a more detailed model. \n",
    "\n",
    "Proteins also have chemical and structural properties that can serve to help evaluate the quality of our model. \n",
    "\n",
    "The figure below illustrates the mapping between nucleotides and amino acids.\n",
    "\n",
    "<br>\n",
    "\n",
    "\n",
    "<figure><img src='./res/F2.large.jpg' width=300 alt='Nucleotide to Amino Acid'/> <figcaption><center><i>Nucleotide to Amino Acid Conversions.</i></center></figcaption> </figure>"
   ]
  },
  {
   "cell_type": "markdown",
   "metadata": {},
   "source": [
    "### Disordered Proteins \n",
    "\n",
    "Disordered proteins are proteins that lack a defined structure. Aggregation of certain disordered proteins such as [$\\alpha$-synuclein](https://en.wikipedia.org/wiki/Alpha-synuclein) has been linked to Alzheimer's and Parkinson's disease. There are several [exisiting implementations](https://en.wikipedia.org/wiki/List_of_disorder_prediction_software) of neural network based disorder prediction software, but we are not aware of any that rely on sequence data alone. Being able to accurately predict protein strucute without physicochemical property information or X-ray structure data would represent a significant contribution. \n",
    "\n",
    "The figure below illustrates a disordered protein (disordered section is in red). \n",
    "\n",
    "<br>\n",
    "\n",
    "<figure><img src='./res/disordered_protein.png' width=400 alt='Disordered Protein'/> <figcaption><center><i>Disordered Protein.</i></center></figcaption> </figure>\n",
    "\n"
   ]
  },
  {
   "cell_type": "markdown",
   "metadata": {},
   "source": [
    "## Results\n",
    "\n",
    "We trained a model on the [6.02 release](http://www.disprot.org/index.php) of the Database of Protein Disorder (DisProt) containing 694 proteins and 1539 disordered regions with the goal of replicating observations made by [Asgari et al.](http://arxiv.org/pdf/1503.05140.pdf) in *Continuous Distributed Representation of Biological Sequences for Deep Proteomics and Genomics*. The following listing illustrates the vector representation of the sequence $\\texttt{AGVVGT}$ and its nearest neighbors. "
   ]
  },
  {
   "cell_type": "code",
   "execution_count": 1,
   "metadata": {
    "collapsed": false,
    "scrolled": false
   },
   "outputs": [
    {
     "name": "stdout",
     "output_type": "stream",
     "text": [
      "loading\n",
      "loaded\n",
      "[ 0.20882246  0.09831414]\n"
     ]
    },
    {
     "data": {
      "image/png": "[encoded data removed]",
      "text/plain": [
       "<matplotlib.figure.Figure at 0x7f6b07f407d0>"
      ]
     },
     "metadata": {},
     "output_type": "display_data"
    }
   ],
   "source": [
    "%matplotlib inline\n",
    "import visword2vec\n",
    "visword2vec.visWord2Vec('./res/protein_6-grams.bin').plot('AGVVGT')"
   ]
  },
  {
   "cell_type": "markdown",
   "metadata": {},
   "source": [
    "Almost all amino acids present in the plot are hydrophobic. Hydrophobicity plays a significant role in protein structure -- over-representation of residues results in low complexity sequences that are a strong indication of disorder. While there is not significant over-representation of any one amino acid in this plot, the acids present have similar structural and chemical properties that could be contributing factors to disorder. \n",
    "\n",
    "<figure><img src='./res/amino_acids_hydrophobic.jpg' width=600 alt='Hydrophobic Amino Acids'/> <figcaption><center><i>Hydrophobic Amino Acids.</i></center></figcaption> </figure>\n",
    "\n",
    "We also notice that valine is often interchanged with isoleucine or leucine in the subsequence $\\texttt{GVVG}$. This is interesting because valine, isoleucine, and leucine are [branched-chain amino acids](https://en.wikipedia.org/wiki/Branched-chain_amino_acid) -- an amino acid with branched [aliphatic](https://en.wikipedia.org/wiki/Aliphatic_compound) side-chains. Aliphatic compunds are typically often very hydrophobic. \n",
    "\n"
   ]
  },
  {
   "cell_type": "markdown",
   "metadata": {},
   "source": [
    "|                       Amino Acid                       |         Formula         |                                                                                  Structure                                                                                  | [BCAA](https://en.wikipedia.org/wiki/Branched-chain_amino_acid) |\n",
    "|:------------------------------------------------------:|:-----------------------:|:---------------------------------------------------------------------------------------------------------------------------------------------------------------------------:|:---------------------------------------------------------------:|\n",
    "|    [Glycine](https://en.wikipedia.org/wiki/Glycine)    |  C$_{2}$H$_{5}$NO$_{2}$ |                                <img src='https://upload.wikimedia.org/wikipedia/commons/4/46/Glycin_-_Glycine.svg' alt='Glycine' width=\"60\"/>                               |                                No                               |\n",
    "|    [Alanine](https://en.wikipedia.org/wiki/Alanine)    |  C$_{3}$H$_{7}$NO$_{2}$ |                             <img src='https://upload.wikimedia.org/wikipedia/commons/9/90/L-Alanin_-_L-Alanine.svg' alt='Alanine' width=\"100\"/>                             |                                No                               |\n",
    "|     [Valine](https://en.wikipedia.org/wiki/Valine)     | C$_{5}$H$_{11}$NO$_{2}$ |                                <img src='./res/ValinenotatpH7.4.png' alt='Valine' width=\"100\"/>                               |                               Yes                               |\n",
    "|    [Leucine](https://en.wikipedia.org/wiki/Leucine)    | C$_{6}$H$_{13}$NO$_{2}$ |                                   <img src='https://upload.wikimedia.org/wikipedia/commons/4/4d/L-Leucine.svg' alt='Leucine' width=\"100\"/>                                  |                               Yes                               |\n",
    "| [Isoleucine](https://en.wikipedia.org/wiki/Isoleucine) | C$_{6}$H$_{13}$NO$_{2}$ | <img src='https://upload.wikimedia.org/wikipedia/commons/thumb/4/46/L-Isoleucin_-_L-Isoleucine.svg/232px-L-Isoleucin_-_L-Isoleucine.svg.png' alt='Isoleucine' width=\"100\"/> |                               Yes           | "
   ]
  },
  {
   "cell_type": "markdown",
   "metadata": {},
   "source": [
    "We observed that the $\\texttt{GVVG}$ was in fact common in disordered proteins in the DisProt database. Three examples of this are shown below. While this subsequence alone is not indicative of disorder, it is likely a contributing factor. "
   ]
  },
  {
   "cell_type": "markdown",
   "metadata": {},
   "source": [
    "\n"
   ]
  },
  {
   "cell_type": "markdown",
   "metadata": {},
   "source": [
    "<table align=\"center\" class=\"RESULTS_TABLE\" cellspacing=\"0\" cellpadding=\"5\"><tbody><tr><td bgcolor=\"#FFFFFF\"><b>Native sequence: <a href=\"http://www.disprot.org/protein.php?id=DP00630\">DP00630: Gamma-synuclein</a></b></td></tr><tr><td><br><blockquote><p class=\"sequence\">\n",
    "MDVFKKGFSI AKE<b>GVVGT</b>AVE KTKQGVTEAA EKTKEGVMYV GAKTKENVVQ SVTSVAEKTK - 60<br>EQANAVSEAV VSSVNTVATK TVEEAENIAV TSGVVRKEDL RPSAPQQEGE ASKEKEEVAE - 120<br>EAQSGGD</p></blockquote></td></tr></tbody></table>"
   ]
  },
  {
   "cell_type": "markdown",
   "metadata": {},
   "source": [
    "<table align=\"center\" class=\"RESULTS_TABLE\" cellspacing=\"0\" cellpadding=\"5\"><tbody><tr><td bgcolor=\"#FFFFFF\"><b>Native sequence: <a href=\"http://www.disprot.org/protein.php?id=DP00163\">DP00163: Protein GIR2</a></b></td></tr><tr><td><br><blockquote><p class=\"sequence\">\n",
    "MDYKEEQKQE LEVLESIYPD ELRIINDEYP KIKFEVAIKL ELDTGDSTSV LTKEHTIIAE - 60<br>FKLPENYPDE PCLISLEAQE VALNDNEEDN EEDEDEVEYD DHGNKVLKKF ENLPDLISFK - 120<br>GYLPELTVQL ESQIETDMLL GMQMCFALIS SIKERCEQWY SEQLNKLEKQ YELEAQEREK - 180<br>KEQAKFHGTK VTRESYLEWR SKFRQELKLD ERDQVRRMKA HHGKLTGKQM FEQ<b>GVVGT</b>GD - 240<br>EYMEEDDASV DDVAKGLAKT EIANQ</p></blockquote></td></tr></tbody></table>"
   ]
  },
  {
   "cell_type": "markdown",
   "metadata": {},
   "source": [
    "<table align=\"center\" class=\"RESULTS_TABLE\" cellspacing=\"0\" cellpadding=\"5\"><tbody><tr><td bgcolor=\"#FFFFFF\"><b>Native sequence: <a href=\"http://www.disprot.org/protein.php?id=DP00664\">DP00664: 18 kDa seed maturation protein</a></b></td></tr><tr><td><br><blockquote><p class=\"sequence\">\n",
    "MQGGKKAGES IKETATNIGA SAKAGMEKTK ATVQEKAERM TARDPVQKEL ATQKKEAKMN - 60<br>QAELDKQAAR QHNTAAKQSA TTAGHMGHGH HTTGTGTGTA TYSTTGEYGQ PMGAHQTSAM - 120<br>PGHGTGQPTG HVTE<b>GVVG</b>SH PIGTNRGPGG TATAHNTRAG GKPNDYGYGT GGT</p></blockquote></td></tr></tbody></table>\n"
   ]
  },
  {
   "cell_type": "markdown",
   "metadata": {},
   "source": [
    "### Visualization of disordered protein 6-grams with Tensorflow\n",
    "\n",
    "The following figure was generated using Tensorflow's Word2vec implementation and gives a broad overview of the most common 6-grams from the DisProt database. Noteworthy features include a large, dense cluster on the left side of the figure as well as a small cluster on the right. \n",
    "\n",
    "The large cluster is of particular interest. There are many 6-grams that are (apparently) very closely related. How these 6-grams are related we are not sure. The small cluster contains several low complexity sequences which is indicative of disorder. Other sequences within this cluster are also found in disordered proteins. We are unsure what (if any) meaning can be derived beyond that. \n",
    "\n",
    "<figure><img src='./res/disprot.png' alt='Disordered Protein 6-grams' width=\"1000\"/> <figcaption><center><i>Disordered Protein 6-grams.</i></center></figcaption> </figure>"
   ]
  },
  {
   "cell_type": "markdown",
   "metadata": {},
   "source": [
    "## Future work\n",
    "\n",
    "Asgari et al. combine the vector representations of their protein 3-grams to obtain vector representations of entire proteins. Future efforts will focus on applying this technique to nucleotide data to accomplish the original goal of the project -- vector representation of genes. "
   ]
  },
  {
   "cell_type": "markdown",
   "metadata": {},
   "source": [
    "## References\n",
    "\n",
    "Asgari, E. and Mofrad, M.R.K. (2015) [Continuous Distributed Representation of Biological Sequences for Deep Proteomics and Genomics](http://arxiv.org/pdf/1503.05140.pdf). PLoS One, 10, e0141287.\n",
    "\n",
    "Dunker, A. K., Silman, I., Uversky, V. N. & Sussman, J. L. [Function and structure of inherently disordered proteins](http://www.sciencedirect.com/science/article/pii/S0959440X08001516). Curr. Opin. Struct. Biol. 18, 756–764 (2008).\n",
    "\n",
    "\"[Vector Representations of Words](https://www.tensorflow.org/versions/r0.8/tutorials/word2vec/index.html).\" Web log post. Tensorflow. Google\n",
    "\n",
    "T. Mikolov, I. Sutskever, K. Chen, G. Corrado, and J. Dean. [Distributed Representations of Words and Phrases and their Compositionality](https://papers.nips.cc/paper/5021-distributed-representations-of-words-and-phrases-and-their-compositionality.pdf). In Advances on Neural Information Processing Systems, 2013c\n",
    "\n",
    "Morin, F., and Bengio, Y. 2005. [Hierarchical probabilistic neural network language model](http://www.iro.umontreal.ca/~lisa/pointeurs/hierarchical-nnlm-aistats05.pdf). In the international workshop on artificial intelligence and statistics, 246–252.\n",
    "\n",
    "Rong, X. (2014). [word2vec Parameter Learning Explained](http://arxiv.org/pdf/1411.2738v3.pdf). arXiv:1411.2738 [cs].\n",
    "\n",
    "\"[Principal Component Analysis](https://en.wikipedia.org/wiki/Principal_component_analysis).\" Wikipedia. Wikimedia Foundation, n.d. Web. 20 Apr. 2016."
   ]
  }
 ],
 "metadata": {
  "kernelspec": {
   "display_name": "Python 2",
   "language": "python",
   "name": "python2"
  },
  "language_info": {
   "codemirror_mode": {
    "name": "ipython",
    "version": 2
   },
   "file_extension": ".py",
   "mimetype": "text/x-python",
   "name": "python",
   "nbconvert_exporter": "python",
   "pygments_lexer": "ipython2",
   "version": "2.7.11+"
  }
 },
 "nbformat": 4,
 "nbformat_minor": 0
}
